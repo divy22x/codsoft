{
  "cells": [
    {
      "cell_type": "markdown",
      "metadata": {
        "id": "view-in-github",
        "colab_type": "text"
      },
      "source": [
        "<a href=\"https://colab.research.google.com/github/divy22x/codsoft/blob/main/LOAN_MINI_PROJECT.ipynb\" target=\"_parent\"><img src=\"https://colab.research.google.com/assets/colab-badge.svg\" alt=\"Open In Colab\"/></a>"
      ]
    },
    {
      "cell_type": "markdown",
      "metadata": {
        "id": "o8bOgTnLVOc5"
      },
      "source": [
        "#LOAN PREDICTION APPROVAL USING MACHINE LEARNING\n",
        "\n",
        "This is a loan prediction project.Using a set of variables, I will predict which of the banks customers are more likely to have their loan application approved. This is a classification problem in Machine Learning, and banks can use these models to assess their customers for loan qualification and fitness.\n",
        "\n",
        "\n",
        "\n",
        "Logistic Regression\n",
        "Decision Tree\n",
        "\n",
        "Confusion Matrix\n",
        "\n",
        "Random Forest\n",
        "\n",
        "\n",
        "Data Set Description\n",
        "\n",
        "There are 13 variables in this data set:\n",
        "\n",
        "8 categorical variables,\n",
        "\n",
        "4 continuous variables, and\n",
        "\n",
        "1 variable to accommodate the loan ID.\n",
        "\n",
        "\n",
        "\n"
      ]
    },
    {
      "cell_type": "code",
      "execution_count": null,
      "metadata": {
        "id": "dj6YE8_4YFZ3"
      },
      "outputs": [],
      "source": [
        "import pandas as pd\n",
        "import numpy as np\n",
        "import seaborn as sns\n",
        "import matplotlib.pyplot as plt"
      ]
    },
    {
      "cell_type": "code",
      "execution_count": null,
      "metadata": {
        "colab": {
          "base_uri": "https://localhost:8080/",
          "height": 288
        },
        "id": "5fRKIzagYPPG",
        "outputId": "c2014ea1-e180-402c-90d0-c81a80f20cf7"
      },
      "outputs": [
        {
          "data": {
            "text/html": [
              "\n",
              "  <div id=\"df-d730f8bd-137e-42c6-8249-ed6731b451dc\">\n",
              "    <div class=\"colab-df-container\">\n",
              "      <div>\n",
              "<style scoped>\n",
              "    .dataframe tbody tr th:only-of-type {\n",
              "        vertical-align: middle;\n",
              "    }\n",
              "\n",
              "    .dataframe tbody tr th {\n",
              "        vertical-align: top;\n",
              "    }\n",
              "\n",
              "    .dataframe thead th {\n",
              "        text-align: right;\n",
              "    }\n",
              "</style>\n",
              "<table border=\"1\" class=\"dataframe\">\n",
              "  <thead>\n",
              "    <tr style=\"text-align: right;\">\n",
              "      <th></th>\n",
              "      <th>Loan_ID</th>\n",
              "      <th>Gender</th>\n",
              "      <th>Married</th>\n",
              "      <th>Dependents</th>\n",
              "      <th>Education</th>\n",
              "      <th>Self_Employed</th>\n",
              "      <th>ApplicantIncome</th>\n",
              "      <th>CoapplicantIncome</th>\n",
              "      <th>LoanAmount</th>\n",
              "      <th>Loan_Amount_Term</th>\n",
              "      <th>Credit_History</th>\n",
              "      <th>Property_Area</th>\n",
              "      <th>Loan_Status</th>\n",
              "    </tr>\n",
              "  </thead>\n",
              "  <tbody>\n",
              "    <tr>\n",
              "      <th>0</th>\n",
              "      <td>LP001002</td>\n",
              "      <td>Male</td>\n",
              "      <td>No</td>\n",
              "      <td>0</td>\n",
              "      <td>Graduate</td>\n",
              "      <td>No</td>\n",
              "      <td>5849</td>\n",
              "      <td>0.0</td>\n",
              "      <td>NaN</td>\n",
              "      <td>360.0</td>\n",
              "      <td>1.0</td>\n",
              "      <td>Urban</td>\n",
              "      <td>Y</td>\n",
              "    </tr>\n",
              "    <tr>\n",
              "      <th>1</th>\n",
              "      <td>LP001003</td>\n",
              "      <td>Male</td>\n",
              "      <td>Yes</td>\n",
              "      <td>1</td>\n",
              "      <td>Graduate</td>\n",
              "      <td>No</td>\n",
              "      <td>4583</td>\n",
              "      <td>1508.0</td>\n",
              "      <td>128.0</td>\n",
              "      <td>360.0</td>\n",
              "      <td>1.0</td>\n",
              "      <td>Rural</td>\n",
              "      <td>N</td>\n",
              "    </tr>\n",
              "    <tr>\n",
              "      <th>2</th>\n",
              "      <td>LP001005</td>\n",
              "      <td>Male</td>\n",
              "      <td>Yes</td>\n",
              "      <td>0</td>\n",
              "      <td>Graduate</td>\n",
              "      <td>Yes</td>\n",
              "      <td>3000</td>\n",
              "      <td>0.0</td>\n",
              "      <td>66.0</td>\n",
              "      <td>360.0</td>\n",
              "      <td>1.0</td>\n",
              "      <td>Urban</td>\n",
              "      <td>Y</td>\n",
              "    </tr>\n",
              "    <tr>\n",
              "      <th>3</th>\n",
              "      <td>LP001006</td>\n",
              "      <td>Male</td>\n",
              "      <td>Yes</td>\n",
              "      <td>0</td>\n",
              "      <td>Not Graduate</td>\n",
              "      <td>No</td>\n",
              "      <td>2583</td>\n",
              "      <td>2358.0</td>\n",
              "      <td>120.0</td>\n",
              "      <td>360.0</td>\n",
              "      <td>1.0</td>\n",
              "      <td>Urban</td>\n",
              "      <td>Y</td>\n",
              "    </tr>\n",
              "    <tr>\n",
              "      <th>4</th>\n",
              "      <td>LP001008</td>\n",
              "      <td>Male</td>\n",
              "      <td>No</td>\n",
              "      <td>0</td>\n",
              "      <td>Graduate</td>\n",
              "      <td>No</td>\n",
              "      <td>6000</td>\n",
              "      <td>0.0</td>\n",
              "      <td>141.0</td>\n",
              "      <td>360.0</td>\n",
              "      <td>1.0</td>\n",
              "      <td>Urban</td>\n",
              "      <td>Y</td>\n",
              "    </tr>\n",
              "  </tbody>\n",
              "</table>\n",
              "</div>\n",
              "      <button class=\"colab-df-convert\" onclick=\"convertToInteractive('df-d730f8bd-137e-42c6-8249-ed6731b451dc')\"\n",
              "              title=\"Convert this dataframe to an interactive table.\"\n",
              "              style=\"display:none;\">\n",
              "        \n",
              "  <svg xmlns=\"http://www.w3.org/2000/svg\" height=\"24px\"viewBox=\"0 0 24 24\"\n",
              "       width=\"24px\">\n",
              "    <path d=\"M0 0h24v24H0V0z\" fill=\"none\"/>\n",
              "    <path d=\"M18.56 5.44l.94 2.06.94-2.06 2.06-.94-2.06-.94-.94-2.06-.94 2.06-2.06.94zm-11 1L8.5 8.5l.94-2.06 2.06-.94-2.06-.94L8.5 2.5l-.94 2.06-2.06.94zm10 10l.94 2.06.94-2.06 2.06-.94-2.06-.94-.94-2.06-.94 2.06-2.06.94z\"/><path d=\"M17.41 7.96l-1.37-1.37c-.4-.4-.92-.59-1.43-.59-.52 0-1.04.2-1.43.59L10.3 9.45l-7.72 7.72c-.78.78-.78 2.05 0 2.83L4 21.41c.39.39.9.59 1.41.59.51 0 1.02-.2 1.41-.59l7.78-7.78 2.81-2.81c.8-.78.8-2.07 0-2.86zM5.41 20L4 18.59l7.72-7.72 1.47 1.35L5.41 20z\"/>\n",
              "  </svg>\n",
              "      </button>\n",
              "      \n",
              "  <style>\n",
              "    .colab-df-container {\n",
              "      display:flex;\n",
              "      flex-wrap:wrap;\n",
              "      gap: 12px;\n",
              "    }\n",
              "\n",
              "    .colab-df-convert {\n",
              "      background-color: #E8F0FE;\n",
              "      border: none;\n",
              "      border-radius: 50%;\n",
              "      cursor: pointer;\n",
              "      display: none;\n",
              "      fill: #1967D2;\n",
              "      height: 32px;\n",
              "      padding: 0 0 0 0;\n",
              "      width: 32px;\n",
              "    }\n",
              "\n",
              "    .colab-df-convert:hover {\n",
              "      background-color: #E2EBFA;\n",
              "      box-shadow: 0px 1px 2px rgba(60, 64, 67, 0.3), 0px 1px 3px 1px rgba(60, 64, 67, 0.15);\n",
              "      fill: #174EA6;\n",
              "    }\n",
              "\n",
              "    [theme=dark] .colab-df-convert {\n",
              "      background-color: #3B4455;\n",
              "      fill: #D2E3FC;\n",
              "    }\n",
              "\n",
              "    [theme=dark] .colab-df-convert:hover {\n",
              "      background-color: #434B5C;\n",
              "      box-shadow: 0px 1px 3px 1px rgba(0, 0, 0, 0.15);\n",
              "      filter: drop-shadow(0px 1px 2px rgba(0, 0, 0, 0.3));\n",
              "      fill: #FFFFFF;\n",
              "    }\n",
              "  </style>\n",
              "\n",
              "      <script>\n",
              "        const buttonEl =\n",
              "          document.querySelector('#df-d730f8bd-137e-42c6-8249-ed6731b451dc button.colab-df-convert');\n",
              "        buttonEl.style.display =\n",
              "          google.colab.kernel.accessAllowed ? 'block' : 'none';\n",
              "\n",
              "        async function convertToInteractive(key) {\n",
              "          const element = document.querySelector('#df-d730f8bd-137e-42c6-8249-ed6731b451dc');\n",
              "          const dataTable =\n",
              "            await google.colab.kernel.invokeFunction('convertToInteractive',\n",
              "                                                     [key], {});\n",
              "          if (!dataTable) return;\n",
              "\n",
              "          const docLinkHtml = 'Like what you see? Visit the ' +\n",
              "            '<a target=\"_blank\" href=https://colab.research.google.com/notebooks/data_table.ipynb>data table notebook</a>'\n",
              "            + ' to learn more about interactive tables.';\n",
              "          element.innerHTML = '';\n",
              "          dataTable['output_type'] = 'display_data';\n",
              "          await google.colab.output.renderOutput(dataTable, element);\n",
              "          const docLink = document.createElement('div');\n",
              "          docLink.innerHTML = docLinkHtml;\n",
              "          element.appendChild(docLink);\n",
              "        }\n",
              "      </script>\n",
              "    </div>\n",
              "  </div>\n",
              "  "
            ],
            "text/plain": [
              "    Loan_ID Gender Married Dependents     Education Self_Employed  \\\n",
              "0  LP001002   Male      No          0      Graduate            No   \n",
              "1  LP001003   Male     Yes          1      Graduate            No   \n",
              "2  LP001005   Male     Yes          0      Graduate           Yes   \n",
              "3  LP001006   Male     Yes          0  Not Graduate            No   \n",
              "4  LP001008   Male      No          0      Graduate            No   \n",
              "\n",
              "   ApplicantIncome  CoapplicantIncome  LoanAmount  Loan_Amount_Term  \\\n",
              "0             5849                0.0         NaN             360.0   \n",
              "1             4583             1508.0       128.0             360.0   \n",
              "2             3000                0.0        66.0             360.0   \n",
              "3             2583             2358.0       120.0             360.0   \n",
              "4             6000                0.0       141.0             360.0   \n",
              "\n",
              "   Credit_History Property_Area Loan_Status  \n",
              "0             1.0         Urban           Y  \n",
              "1             1.0         Rural           N  \n",
              "2             1.0         Urban           Y  \n",
              "3             1.0         Urban           Y  \n",
              "4             1.0         Urban           Y  "
            ]
          },
          "execution_count": 97,
          "metadata": {},
          "output_type": "execute_result"
        }
      ],
      "source": [
        "df=pd.read_csv(\"/content/loan_dataset.csv\")\n",
        "df.head()"
      ]
    },
    {
      "cell_type": "code",
      "execution_count": null,
      "metadata": {
        "colab": {
          "base_uri": "https://localhost:8080/"
        },
        "id": "t4rQWXKjYPTB",
        "outputId": "4e9ebb71-e0da-4406-fa65-a8a7074e1c57"
      },
      "outputs": [
        {
          "data": {
            "text/plain": [
              "(614, 13)"
            ]
          },
          "execution_count": 98,
          "metadata": {},
          "output_type": "execute_result"
        }
      ],
      "source": [
        "df.shape"
      ]
    },
    {
      "cell_type": "code",
      "execution_count": null,
      "metadata": {
        "colab": {
          "base_uri": "https://localhost:8080/"
        },
        "id": "OH9p4TE0YQCs",
        "outputId": "b762c69d-33ca-4919-d8bb-55026a9aaf01"
      },
      "outputs": [
        {
          "data": {
            "text/plain": [
              "Index(['Loan_ID', 'Gender', 'Married', 'Dependents', 'Education',\n",
              "       'Self_Employed', 'ApplicantIncome', 'CoapplicantIncome', 'LoanAmount',\n",
              "       'Loan_Amount_Term', 'Credit_History', 'Property_Area', 'Loan_Status'],\n",
              "      dtype='object')"
            ]
          },
          "execution_count": 99,
          "metadata": {},
          "output_type": "execute_result"
        }
      ],
      "source": [
        "df.columns"
      ]
    },
    {
      "cell_type": "code",
      "execution_count": null,
      "metadata": {
        "colab": {
          "base_uri": "https://localhost:8080/"
        },
        "id": "cXuXZ7Cnbwrq",
        "outputId": "e694615c-5781-4e21-9290-829dffebf23a"
      },
      "outputs": [
        {
          "name": "stdout",
          "output_type": "stream",
          "text": [
            "<class 'pandas.core.frame.DataFrame'>\n",
            "RangeIndex: 614 entries, 0 to 613\n",
            "Data columns (total 13 columns):\n",
            " #   Column             Non-Null Count  Dtype  \n",
            "---  ------             --------------  -----  \n",
            " 0   Loan_ID            614 non-null    object \n",
            " 1   Gender             601 non-null    object \n",
            " 2   Married            611 non-null    object \n",
            " 3   Dependents         599 non-null    object \n",
            " 4   Education          614 non-null    object \n",
            " 5   Self_Employed      582 non-null    object \n",
            " 6   ApplicantIncome    614 non-null    int64  \n",
            " 7   CoapplicantIncome  614 non-null    float64\n",
            " 8   LoanAmount         592 non-null    float64\n",
            " 9   Loan_Amount_Term   600 non-null    float64\n",
            " 10  Credit_History     564 non-null    float64\n",
            " 11  Property_Area      614 non-null    object \n",
            " 12  Loan_Status        614 non-null    object \n",
            "dtypes: float64(4), int64(1), object(8)\n",
            "memory usage: 62.5+ KB\n"
          ]
        }
      ],
      "source": [
        "df.info()"
      ]
    },
    {
      "cell_type": "code",
      "execution_count": null,
      "metadata": {
        "colab": {
          "base_uri": "https://localhost:8080/"
        },
        "id": "X3mBrGHoYQHP",
        "outputId": "d8b2b8f1-6c1f-4f76-a599-a6f5d3a184b9"
      },
      "outputs": [
        {
          "name": "stdout",
          "output_type": "stream",
          "text": [
            "Total number of rows with missing values is  134\n",
            "since it is only 22 percent of the entire dataset the rows with missing values are excluded.\n"
          ]
        }
      ],
      "source": [
        "count=0\n",
        "for i in df.isnull().sum(axis=1):\n",
        "    if i>0:\n",
        "        count=count+1\n",
        "print('Total number of rows with missing values is ', count)\n",
        "print('since it is only',round((count/len(df.index))*100), 'percent of the entire dataset the rows with missing values are excluded.')"
      ]
    },
    {
      "cell_type": "code",
      "execution_count": null,
      "metadata": {
        "colab": {
          "base_uri": "https://localhost:8080/"
        },
        "id": "aUT8z1u2WdvY",
        "outputId": "8eab3f01-b020-4a5a-bde8-83b61c57771d"
      },
      "outputs": [
        {
          "data": {
            "text/plain": [
              "Loan_ID               0\n",
              "Gender               13\n",
              "Married               3\n",
              "Dependents           15\n",
              "Education             0\n",
              "Self_Employed        32\n",
              "ApplicantIncome       0\n",
              "CoapplicantIncome     0\n",
              "LoanAmount           22\n",
              "Loan_Amount_Term     14\n",
              "Credit_History       50\n",
              "Property_Area         0\n",
              "Loan_Status           0\n",
              "dtype: int64"
            ]
          },
          "execution_count": 102,
          "metadata": {},
          "output_type": "execute_result"
        }
      ],
      "source": [
        "df.isnull().sum()"
      ]
    },
    {
      "cell_type": "code",
      "execution_count": null,
      "metadata": {
        "colab": {
          "base_uri": "https://localhost:8080/"
        },
        "id": "oYQSikdSYQMv",
        "outputId": "8cceaad0-761c-422a-90d7-6629cd9c19a0"
      },
      "outputs": [
        {
          "data": {
            "text/plain": [
              "Loan_ID              614\n",
              "Gender                 2\n",
              "Married                2\n",
              "Dependents             4\n",
              "Education              2\n",
              "Self_Employed          2\n",
              "ApplicantIncome      505\n",
              "CoapplicantIncome    287\n",
              "LoanAmount           203\n",
              "Loan_Amount_Term      10\n",
              "Credit_History         2\n",
              "Property_Area          3\n",
              "Loan_Status            2\n",
              "dtype: int64"
            ]
          },
          "execution_count": 103,
          "metadata": {},
          "output_type": "execute_result"
        }
      ],
      "source": [
        "df.nunique()"
      ]
    },
    {
      "cell_type": "code",
      "execution_count": null,
      "metadata": {
        "id": "2L6sqgpKYSRe"
      },
      "outputs": [],
      "source": [
        "df.dropna(axis=0,inplace=True)"
      ]
    },
    {
      "cell_type": "code",
      "execution_count": null,
      "metadata": {
        "colab": {
          "base_uri": "https://localhost:8080/",
          "height": 300
        },
        "id": "iO_OmTNGh9t-",
        "outputId": "dc92b813-bfec-4c0f-8715-28c2f3c471be"
      },
      "outputs": [
        {
          "data": {
            "text/html": [
              "\n",
              "  <div id=\"df-416b72e3-8526-40fb-a5bd-bd5e0a58c5c1\">\n",
              "    <div class=\"colab-df-container\">\n",
              "      <div>\n",
              "<style scoped>\n",
              "    .dataframe tbody tr th:only-of-type {\n",
              "        vertical-align: middle;\n",
              "    }\n",
              "\n",
              "    .dataframe tbody tr th {\n",
              "        vertical-align: top;\n",
              "    }\n",
              "\n",
              "    .dataframe thead th {\n",
              "        text-align: right;\n",
              "    }\n",
              "</style>\n",
              "<table border=\"1\" class=\"dataframe\">\n",
              "  <thead>\n",
              "    <tr style=\"text-align: right;\">\n",
              "      <th></th>\n",
              "      <th>ApplicantIncome</th>\n",
              "      <th>CoapplicantIncome</th>\n",
              "      <th>LoanAmount</th>\n",
              "      <th>Loan_Amount_Term</th>\n",
              "      <th>Credit_History</th>\n",
              "    </tr>\n",
              "  </thead>\n",
              "  <tbody>\n",
              "    <tr>\n",
              "      <th>count</th>\n",
              "      <td>480.000000</td>\n",
              "      <td>480.000000</td>\n",
              "      <td>480.000000</td>\n",
              "      <td>480.000000</td>\n",
              "      <td>480.000000</td>\n",
              "    </tr>\n",
              "    <tr>\n",
              "      <th>mean</th>\n",
              "      <td>5364.231250</td>\n",
              "      <td>1581.093583</td>\n",
              "      <td>144.735417</td>\n",
              "      <td>342.050000</td>\n",
              "      <td>0.854167</td>\n",
              "    </tr>\n",
              "    <tr>\n",
              "      <th>std</th>\n",
              "      <td>5668.251251</td>\n",
              "      <td>2617.692267</td>\n",
              "      <td>80.508164</td>\n",
              "      <td>65.212401</td>\n",
              "      <td>0.353307</td>\n",
              "    </tr>\n",
              "    <tr>\n",
              "      <th>min</th>\n",
              "      <td>150.000000</td>\n",
              "      <td>0.000000</td>\n",
              "      <td>9.000000</td>\n",
              "      <td>36.000000</td>\n",
              "      <td>0.000000</td>\n",
              "    </tr>\n",
              "    <tr>\n",
              "      <th>25%</th>\n",
              "      <td>2898.750000</td>\n",
              "      <td>0.000000</td>\n",
              "      <td>100.000000</td>\n",
              "      <td>360.000000</td>\n",
              "      <td>1.000000</td>\n",
              "    </tr>\n",
              "    <tr>\n",
              "      <th>50%</th>\n",
              "      <td>3859.000000</td>\n",
              "      <td>1084.500000</td>\n",
              "      <td>128.000000</td>\n",
              "      <td>360.000000</td>\n",
              "      <td>1.000000</td>\n",
              "    </tr>\n",
              "    <tr>\n",
              "      <th>75%</th>\n",
              "      <td>5852.500000</td>\n",
              "      <td>2253.250000</td>\n",
              "      <td>170.000000</td>\n",
              "      <td>360.000000</td>\n",
              "      <td>1.000000</td>\n",
              "    </tr>\n",
              "    <tr>\n",
              "      <th>max</th>\n",
              "      <td>81000.000000</td>\n",
              "      <td>33837.000000</td>\n",
              "      <td>600.000000</td>\n",
              "      <td>480.000000</td>\n",
              "      <td>1.000000</td>\n",
              "    </tr>\n",
              "  </tbody>\n",
              "</table>\n",
              "</div>\n",
              "      <button class=\"colab-df-convert\" onclick=\"convertToInteractive('df-416b72e3-8526-40fb-a5bd-bd5e0a58c5c1')\"\n",
              "              title=\"Convert this dataframe to an interactive table.\"\n",
              "              style=\"display:none;\">\n",
              "        \n",
              "  <svg xmlns=\"http://www.w3.org/2000/svg\" height=\"24px\"viewBox=\"0 0 24 24\"\n",
              "       width=\"24px\">\n",
              "    <path d=\"M0 0h24v24H0V0z\" fill=\"none\"/>\n",
              "    <path d=\"M18.56 5.44l.94 2.06.94-2.06 2.06-.94-2.06-.94-.94-2.06-.94 2.06-2.06.94zm-11 1L8.5 8.5l.94-2.06 2.06-.94-2.06-.94L8.5 2.5l-.94 2.06-2.06.94zm10 10l.94 2.06.94-2.06 2.06-.94-2.06-.94-.94-2.06-.94 2.06-2.06.94z\"/><path d=\"M17.41 7.96l-1.37-1.37c-.4-.4-.92-.59-1.43-.59-.52 0-1.04.2-1.43.59L10.3 9.45l-7.72 7.72c-.78.78-.78 2.05 0 2.83L4 21.41c.39.39.9.59 1.41.59.51 0 1.02-.2 1.41-.59l7.78-7.78 2.81-2.81c.8-.78.8-2.07 0-2.86zM5.41 20L4 18.59l7.72-7.72 1.47 1.35L5.41 20z\"/>\n",
              "  </svg>\n",
              "      </button>\n",
              "      \n",
              "  <style>\n",
              "    .colab-df-container {\n",
              "      display:flex;\n",
              "      flex-wrap:wrap;\n",
              "      gap: 12px;\n",
              "    }\n",
              "\n",
              "    .colab-df-convert {\n",
              "      background-color: #E8F0FE;\n",
              "      border: none;\n",
              "      border-radius: 50%;\n",
              "      cursor: pointer;\n",
              "      display: none;\n",
              "      fill: #1967D2;\n",
              "      height: 32px;\n",
              "      padding: 0 0 0 0;\n",
              "      width: 32px;\n",
              "    }\n",
              "\n",
              "    .colab-df-convert:hover {\n",
              "      background-color: #E2EBFA;\n",
              "      box-shadow: 0px 1px 2px rgba(60, 64, 67, 0.3), 0px 1px 3px 1px rgba(60, 64, 67, 0.15);\n",
              "      fill: #174EA6;\n",
              "    }\n",
              "\n",
              "    [theme=dark] .colab-df-convert {\n",
              "      background-color: #3B4455;\n",
              "      fill: #D2E3FC;\n",
              "    }\n",
              "\n",
              "    [theme=dark] .colab-df-convert:hover {\n",
              "      background-color: #434B5C;\n",
              "      box-shadow: 0px 1px 3px 1px rgba(0, 0, 0, 0.15);\n",
              "      filter: drop-shadow(0px 1px 2px rgba(0, 0, 0, 0.3));\n",
              "      fill: #FFFFFF;\n",
              "    }\n",
              "  </style>\n",
              "\n",
              "      <script>\n",
              "        const buttonEl =\n",
              "          document.querySelector('#df-416b72e3-8526-40fb-a5bd-bd5e0a58c5c1 button.colab-df-convert');\n",
              "        buttonEl.style.display =\n",
              "          google.colab.kernel.accessAllowed ? 'block' : 'none';\n",
              "\n",
              "        async function convertToInteractive(key) {\n",
              "          const element = document.querySelector('#df-416b72e3-8526-40fb-a5bd-bd5e0a58c5c1');\n",
              "          const dataTable =\n",
              "            await google.colab.kernel.invokeFunction('convertToInteractive',\n",
              "                                                     [key], {});\n",
              "          if (!dataTable) return;\n",
              "\n",
              "          const docLinkHtml = 'Like what you see? Visit the ' +\n",
              "            '<a target=\"_blank\" href=https://colab.research.google.com/notebooks/data_table.ipynb>data table notebook</a>'\n",
              "            + ' to learn more about interactive tables.';\n",
              "          element.innerHTML = '';\n",
              "          dataTable['output_type'] = 'display_data';\n",
              "          await google.colab.output.renderOutput(dataTable, element);\n",
              "          const docLink = document.createElement('div');\n",
              "          docLink.innerHTML = docLinkHtml;\n",
              "          element.appendChild(docLink);\n",
              "        }\n",
              "      </script>\n",
              "    </div>\n",
              "  </div>\n",
              "  "
            ],
            "text/plain": [
              "       ApplicantIncome  CoapplicantIncome  LoanAmount  Loan_Amount_Term  \\\n",
              "count       480.000000         480.000000  480.000000        480.000000   \n",
              "mean       5364.231250        1581.093583  144.735417        342.050000   \n",
              "std        5668.251251        2617.692267   80.508164         65.212401   \n",
              "min         150.000000           0.000000    9.000000         36.000000   \n",
              "25%        2898.750000           0.000000  100.000000        360.000000   \n",
              "50%        3859.000000        1084.500000  128.000000        360.000000   \n",
              "75%        5852.500000        2253.250000  170.000000        360.000000   \n",
              "max       81000.000000       33837.000000  600.000000        480.000000   \n",
              "\n",
              "       Credit_History  \n",
              "count      480.000000  \n",
              "mean         0.854167  \n",
              "std          0.353307  \n",
              "min          0.000000  \n",
              "25%          1.000000  \n",
              "50%          1.000000  \n",
              "75%          1.000000  \n",
              "max          1.000000  "
            ]
          },
          "execution_count": 105,
          "metadata": {},
          "output_type": "execute_result"
        }
      ],
      "source": [
        "df.describe()"
      ]
    },
    {
      "cell_type": "code",
      "execution_count": null,
      "metadata": {
        "id": "AEJZu2SfYSWA"
      },
      "outputs": [],
      "source": []
    },
    {
      "cell_type": "markdown",
      "metadata": {
        "id": "RsY2hrCScIBP"
      },
      "source": [
        "First we will fill the Missing Values in \"LoanAmount\" & \"Credit_History\" by the 'Mean' & 'Median' of the respective variables."
      ]
    },
    {
      "cell_type": "code",
      "execution_count": null,
      "metadata": {
        "id": "bixQyR82cFfJ"
      },
      "outputs": [],
      "source": [
        "df['LoanAmount'].fillna(df['LoanAmount'].mean(),inplace=True)\n",
        "df['Credit_History'].fillna(df['Credit_History'].median(),inplace=True)"
      ]
    },
    {
      "cell_type": "code",
      "execution_count": null,
      "metadata": {
        "colab": {
          "base_uri": "https://localhost:8080/"
        },
        "id": "cS_JMQLNWxb1",
        "outputId": "b6c2b3ca-fcd6-4762-cbde-cce9181bc39c"
      },
      "outputs": [
        {
          "data": {
            "text/plain": [
              "Loan_ID              0\n",
              "Gender               0\n",
              "Married              0\n",
              "Dependents           0\n",
              "Education            0\n",
              "Self_Employed        0\n",
              "ApplicantIncome      0\n",
              "CoapplicantIncome    0\n",
              "LoanAmount           0\n",
              "Loan_Amount_Term     0\n",
              "Credit_History       0\n",
              "Property_Area        0\n",
              "Loan_Status          0\n",
              "dtype: int64"
            ]
          },
          "execution_count": 107,
          "metadata": {},
          "output_type": "execute_result"
        }
      ],
      "source": [
        "df.isnull().sum()"
      ]
    },
    {
      "cell_type": "code",
      "execution_count": null,
      "metadata": {
        "id": "AqK6wAlHp-rL"
      },
      "outputs": [],
      "source": [
        "df.dropna(axis=0,inplace=True)"
      ]
    },
    {
      "cell_type": "code",
      "execution_count": null,
      "metadata": {
        "colab": {
          "base_uri": "https://localhost:8080/"
        },
        "id": "nvd1Z1hAcFaf",
        "outputId": "b2cfd33d-9fe8-48b8-8c16-aef5d97b64b5"
      },
      "outputs": [
        {
          "data": {
            "text/plain": [
              "(480, 13)"
            ]
          },
          "execution_count": 109,
          "metadata": {},
          "output_type": "execute_result"
        }
      ],
      "source": [
        "df.shape"
      ]
    },
    {
      "cell_type": "code",
      "execution_count": null,
      "metadata": {
        "id": "p33Ah0uDOM-g"
      },
      "outputs": [],
      "source": [
        "def draw_histograms(dataframe, features, rows, cols):\n",
        "    fig=plt.figure(figsize=(20,20))\n",
        "    for i, feature in enumerate(features):\n",
        "        ax=fig.add_subplot(rows,cols,i+1)\n",
        "        dataframe[feature].hist(bins=20,ax=ax,facecolor='midnightblue')\n",
        "        ax.set_title(feature+\" Distribution\",color='DarkRed')\n",
        "\n",
        "    fig.tight_layout()\n",
        "    plt.show()\n",
        "draw_histograms(df,df.columns,6,3)"
      ]
    },
    {
      "cell_type": "code",
      "execution_count": null,
      "metadata": {
        "id": "nRe4FqJxcFWD"
      },
      "outputs": [],
      "source": [
        "plt.figure(figsize=(40,10))\n",
        "sns.countplot(df['Gender'],hue=df['Loan_Status'])\n"
      ]
    },
    {
      "cell_type": "markdown",
      "metadata": {
        "id": "SaALANJidcgE"
      },
      "source": [
        "Let's replace the Variable values to Numerical form & display the Value Counts The data in Numerical form avoids disturbances in building the model."
      ]
    },
    {
      "cell_type": "markdown",
      "metadata": {
        "id": "FXXdROKvithL"
      },
      "source": [
        "label encoding"
      ]
    },
    {
      "cell_type": "code",
      "execution_count": null,
      "metadata": {
        "id": "ml5mfXx1cFR6"
      },
      "outputs": [],
      "source": [
        "df['Loan_Status'].replace('Y',1,inplace=True)\n",
        "df['Loan_Status'].replace('N',0,inplace=True)\n",
        "df.Gender=df.Gender.map({'Male':1,'Female':0})\n",
        "df.Married=df.Married.map({'Yes':1,'No':0})\n",
        "df.Dependents=df.Dependents.map({'0':0,'1':1,'2':2,'3+':3})\n",
        "df.Education=df.Education.map({'Graduate':1,'Not Graduate':0})\n",
        "df.Self_Employed=df.Self_Employed.map({'Yes':1,'No':0})\n",
        "df.Property_Area=df.Property_Area.map({'Urban':2,'Rural':0,'Semiurban':1})"
      ]
    },
    {
      "cell_type": "code",
      "execution_count": null,
      "metadata": {
        "id": "6Zvq2s3Zpb4N"
      },
      "outputs": [],
      "source": [
        "df.Gender=df.Gender.map({'Male':1,'Female':0})\n",
        "df['Gender'].value_counts()"
      ]
    },
    {
      "cell_type": "code",
      "execution_count": null,
      "metadata": {
        "id": "xE_DV2Sydlek"
      },
      "outputs": [],
      "source": [
        "df['Married'].value_counts()"
      ]
    },
    {
      "cell_type": "code",
      "execution_count": null,
      "metadata": {
        "id": "-gpbtNnedlbO"
      },
      "outputs": [],
      "source": [
        "df['Loan_Status'].value_counts()"
      ]
    },
    {
      "cell_type": "code",
      "execution_count": null,
      "metadata": {
        "id": "CUOhve1sdk73"
      },
      "outputs": [],
      "source": [
        "df['Dependents'].value_counts()"
      ]
    },
    {
      "cell_type": "code",
      "execution_count": null,
      "metadata": {
        "id": "8OwPO5b3dk3-"
      },
      "outputs": [],
      "source": [
        "df['Education'].value_counts()"
      ]
    },
    {
      "cell_type": "code",
      "execution_count": null,
      "metadata": {
        "id": "RGhorfm5dkzG"
      },
      "outputs": [],
      "source": [
        "df['Self_Employed'].value_counts()"
      ]
    },
    {
      "cell_type": "code",
      "execution_count": null,
      "metadata": {
        "id": "7dP6IX_ldkvO"
      },
      "outputs": [],
      "source": [
        "df['Property_Area'].value_counts()"
      ]
    },
    {
      "cell_type": "code",
      "execution_count": null,
      "metadata": {
        "id": "YVuu78pSOkN0"
      },
      "outputs": [],
      "source": [
        "plt.figure(figsize = (100, 50))\n",
        "sns.set(font_scale = 5)\n",
        "plt.subplot(331)\n",
        "\n",
        "\n",
        "plt.subplot(332)\n",
        "sns.countplot(df['Married'],hue=df['Loan_Status'])\n",
        "\n",
        "plt.subplot(333)\n",
        "sns.countplot(df['Education'],hue=df['Loan_Status'])\n",
        "\n",
        "plt.subplot(334)\n",
        "sns.countplot(df['Self_Employed'],hue=df['Loan_Status'])\n",
        "\n",
        "plt.subplot(335)\n",
        "sns.countplot(df['Property_Area'],hue=df['Loan_Status'])"
      ]
    },
    {
      "cell_type": "code",
      "execution_count": null,
      "metadata": {
        "id": "k4gsGCl6eIkl"
      },
      "outputs": [],
      "source": [
        "plt.figure(figsize=(5,5))\n",
        "df['ApplicantIncomeLog'] = np.log(df['ApplicantIncome']+1)\n",
        "sns.distplot(df[\"ApplicantIncomeLog\"])"
      ]
    },
    {
      "cell_type": "code",
      "execution_count": null,
      "metadata": {
        "colab": {
          "background_save": true
        },
        "id": "UQmH0JEbauBl",
        "outputId": "7d9faa86-6277-499a-b566-cdbbb2376e98"
      },
      "outputs": [
        {
          "data": {
            "text/plain": [
              "<matplotlib.axes._subplots.AxesSubplot at 0x7f370b8a5460>"
            ]
          },
          "execution_count": 122,
          "metadata": {},
          "output_type": "execute_result"
        },
        {
          "data": {
            "image/png": "[encoded data removed]",
            "text/plain": [
              "<Figure size 360x360 with 2 Axes>"
            ]
          },
          "metadata": {},
          "output_type": "display_data"
        }
      ],
      "source": [
        "plt.figure(figsize=(5,5))\n",
        "sns.heatmap(df.corr(),annot=True)"
      ]
    },
    {
      "cell_type": "markdown",
      "metadata": {
        "id": "c2xnA524lqJb"
      },
      "source": [
        "From the above figure, we can see that Credit_History (Independent Variable) has the maximum correlation with Loan_Status (Dependent Variable). Which denotes that the Loan_Status is heavily dependent on the Credit_History\n",
        "\n",
        "The above heatmap is showing the correlation between Loan Amount and ApplicantIncome. It also shows that Credit_History has a high impact on Loan_Status.\n",
        "\n",
        "Now we will use Catplot to visualize the plot for the Gender, and Marital Status of the applicant."
      ]
    },
    {
      "cell_type": "code",
      "execution_count": null,
      "metadata": {
        "colab": {
          "background_save": true
        },
        "id": "82XMsDRNLq6V",
        "outputId": "ee90be3e-6117-4d4a-a144-1c8c01d7776f"
      },
      "outputs": [
        {
          "data": {
            "text/plain": [
              "<matplotlib.axes._subplots.AxesSubplot at 0x7f370b3a0130>"
            ]
          },
          "execution_count": 123,
          "metadata": {},
          "output_type": "execute_result"
        },
        {
          "data": {
            "image/png": "[encoded data removed]",
            "text/plain": [
              "<Figure size 432x288 with 1 Axes>"
            ]
          },
          "metadata": {},
          "output_type": "display_data"
        }
      ],
      "source": [
        "\n",
        "sns.boxplot(x=\"Loan_Status\", y=\"ApplicantIncome\", data=df)"
      ]
    },
    {
      "cell_type": "markdown",
      "metadata": {
        "id": "UzEDeb2yLyKI"
      },
      "source": [
        "It can be seen that there are lots of outliers in Applicant Income, and the distribution also positively skewed"
      ]
    },
    {
      "cell_type": "code",
      "execution_count": null,
      "metadata": {
        "id": "DtiplHOMLrJz"
      },
      "outputs": [],
      "source": [
        "\n",
        "sns.boxplot(x=\"CoapplicantIncome\", y=\"Loan_Status\", data=df)"
      ]
    },
    {
      "cell_type": "markdown",
      "metadata": {
        "id": "mcFtop91MBSf"
      },
      "source": [
        " It's clear that Co Applicant Income has a number of outliers, and the distribution is also positively skewed"
      ]
    },
    {
      "cell_type": "code",
      "execution_count": null,
      "metadata": {
        "id": "XDgW5fyPu7XA"
      },
      "outputs": [],
      "source": [
        "sns.boxplot(x= 'Loan_Amount_Term',y='Loan_Status', data=df);"
      ]
    },
    {
      "cell_type": "code",
      "execution_count": null,
      "metadata": {
        "id": "expR--E3LreK"
      },
      "outputs": [],
      "source": [
        "sns.boxplot(x=\"Loan_Status\", y=\"LoanAmount\", data=df);"
      ]
    },
    {
      "cell_type": "markdown",
      "metadata": {
        "id": "DYAWJSQuMLQ3"
      },
      "source": [
        " As can be seen, Co Applicant Income has a high number of outliers, and the distribution is also positively skewed"
      ]
    },
    {
      "cell_type": "code",
      "execution_count": null,
      "metadata": {
        "id": "-LaV6KSEMMR5"
      },
      "outputs": [],
      "source": [
        "Q1 = df.quantile(0.25)\n",
        "Q3 = df.quantile(0.75)\n",
        "IQR = Q3 - Q1\n",
        "\n",
        "df = df[~((df < (Q1 - 1.5 * IQR)) |(df > (Q3 + 1.5 * IQR))).any(axis=1)]"
      ]
    },
    {
      "cell_type": "code",
      "execution_count": null,
      "metadata": {
        "id": "xssPE5nmNEJ9"
      },
      "outputs": [],
      "source": [
        "# Square Root Transformation\n",
        "\n",
        "df.ApplicantIncome = np.sqrt(df.ApplicantIncome)\n",
        "df.CoapplicantIncome = np.sqrt(df.CoapplicantIncome)\n",
        "df.LoanAmount = np.sqrt(df.LoanAmount)"
      ]
    },
    {
      "cell_type": "code",
      "execution_count": null,
      "metadata": {
        "id": "IH0r1yN3NV8P"
      },
      "outputs": [],
      "source": [
        "sns.set(style=\"darkgrid\")\n",
        "fig, axs = plt.subplots(2, 2, figsize=(10, 8))\n",
        "\n",
        "sns.histplot(data=df, x=\"ApplicantIncome\", kde=True, ax=axs[0, 0], color='green')\n",
        "sns.histplot(data=df, x=\"CoapplicantIncome\", kde=True, ax=axs[0, 1], color='skyblue')\n",
        "sns.histplot(data=df, x=\"LoanAmount\", kde=True, ax=axs[1, 0], color='orange');"
      ]
    },
    {
      "cell_type": "markdown",
      "metadata": {
        "id": "SzqXfXpmg_19"
      },
      "source": []
    },
    {
      "cell_type": "code",
      "execution_count": null,
      "metadata": {
        "id": "g1WybuazeIdA"
      },
      "outputs": [],
      "source": [
        "from sklearn.model_selection import train_test_split\n",
        "from sklearn.linear_model import LogisticRegression\n",
        "from sklearn import metrics"
      ]
    },
    {
      "cell_type": "code",
      "execution_count": null,
      "metadata": {
        "id": "i3ZLk_eseINj"
      },
      "outputs": [],
      "source": [
        "X=df.iloc[:,1:12].values\n",
        "y=df.iloc[:,12].values"
      ]
    },
    {
      "cell_type": "code",
      "execution_count": null,
      "metadata": {
        "id": "P_e7uJAreIJ0"
      },
      "outputs": [],
      "source": [
        "X.shape"
      ]
    },
    {
      "cell_type": "code",
      "execution_count": null,
      "metadata": {
        "id": "0PacGuzWYSif"
      },
      "outputs": [],
      "source": [
        "y.shape"
      ]
    },
    {
      "cell_type": "code",
      "execution_count": null,
      "metadata": {
        "id": "BHZLJQSViBWE"
      },
      "outputs": [],
      "source": [
        "X_train, X_test, y_train, y_test = train_test_split(X, y, test_size=0.3,random_state=0)"
      ]
    },
    {
      "cell_type": "markdown",
      "metadata": {
        "id": "RBisFMJ8iYGK"
      },
      "source": [
        "Logistic Regression (LR) Logistic regression is a supervised learning classification algorithm used to predict the probability of a target variable.\n",
        "\n",
        "Mathematically, a logistic regression model predicts P(Y=1) as a function of X. It is one of the simplest ML algorithms that can be used for various classification problems such as spam detection, Diabetes prediction, cancer detection etc.\n",
        "\n",
        "in this case we are predicting to loan status.\n",
        "\n"
      ]
    },
    {
      "cell_type": "code",
      "execution_count": null,
      "metadata": {
        "id": "yjozN9LZiBcS"
      },
      "outputs": [],
      "source": [
        "\n",
        "model = LogisticRegression()\n",
        "model.fit(X_train,y_train)\n",
        "\n",
        "lr_prediction = model.predict(X_test)\n",
        "print('Logistic Regression accuracy = ', metrics.accuracy_score(lr_prediction,y_test))\n"
      ]
    },
    {
      "cell_type": "markdown",
      "metadata": {
        "id": "Rrjl7lXgisNM"
      },
      "source": [
        "CONCLUSION:\n",
        "\n",
        "The Loan Status is heavily dependent on the Credit History for Predictions. The Logistic Regression algorithm gives us the maximum Accuracy (87 % approx) compared to the other 3 Machine Learning Classification Algorithms.\n",
        "\n"
      ]
    },
    {
      "cell_type": "markdown",
      "metadata": {
        "id": "cY6HzdWOo4b3"
      },
      "source": [
        "confusion  matrix"
      ]
    },
    {
      "cell_type": "code",
      "execution_count": null,
      "metadata": {
        "id": "lfHJkpi0eOh4"
      },
      "outputs": [],
      "source": [
        "from sklearn.metrics import confusion_matrix\n",
        "y_pred = model.predict(X_test)\n",
        "cm = confusion_matrix(y_test, y_pred)\n",
        "cm"
      ]
    },
    {
      "cell_type": "code",
      "execution_count": null,
      "metadata": {
        "id": "2jZUSyzGenDp"
      },
      "outputs": [],
      "source": [
        "from sklearn.metrics import confusion_matrix\n",
        "\n",
        "cm=confusion_matrix(y_test,y_pred)\n",
        "conf_matrix=pd.DataFrame(data=cm,columns=['Predicted:0','Predicted:1'],index=['Actual:0','Actual:1'])\n",
        "sns.heatmap(conf_matrix, annot=True,fmt='d',cmap=\"YlGnBu\")"
      ]
    },
    {
      "cell_type": "code",
      "execution_count": null,
      "metadata": {
        "id": "51x3iChQoO-j"
      },
      "outputs": [],
      "source": [
        "TN=cm[0,0]\n",
        "TP=cm[1,1]\n",
        "FN=cm[1,0]\n",
        "FP=cm[0,1]\n",
        "sensitivity=TP/float(TP+FN)\n",
        "specificity=TN/float(TN+FP)"
      ]
    },
    {
      "cell_type": "code",
      "execution_count": null,
      "metadata": {
        "id": "YNAWeRfQoPJR"
      },
      "outputs": [],
      "source": [
        "print('The acuuracy of the model = TP+TN/(TP+TN+FP+FN) = ',(TP+TN)/float(TP+TN+FP+FN),'\\n',\n",
        "\n",
        "'The Missclassification = 1-Accuracy = ',1-((TP+TN)/float(TP+TN+FP+FN)),'\\n',\n",
        "\n",
        "'Sensitivity or True Positive Rate = TP/(TP+FN) = ',TP/float(TP+FN),'\\n',\n",
        "\n",
        "'Specificity or True Negative Rate = TN/(TN+FP) = ',TN/float(TN+FP),'\\n',\n",
        "\n",
        "'Positive Predictive value = TP/(TP+FP) = ',TP/float(TP+FP),'\\n',\n",
        "\n",
        "'Negative predictive Value = TN/(TN+FN) = ',TN/float(TN+FN),'\\n',\n",
        "'Positive Likelihood Ratio = Sensitivity/(1-Specificity) = ',sensitivity/(1-specificity),'\\n',\n",
        "\n",
        "'Negative likelihood Ratio = (1-Sensitivity)/Specificity = ',(1-sensitivity)/specificity)"
      ]
    },
    {
      "cell_type": "markdown",
      "metadata": {
        "id": "asoRadnkq1y7"
      },
      "source": [
        "From the above statistics it is clear that the model is highly specific than sensitive. The negative values are predicted more accurately than the positives.\n",
        "\n",
        "Predicted probabilities of 0 (Loan_Status No) and 1 ( Loan_Status Yes) for the test data with a default classification threshold of 0.5"
      ]
    },
    {
      "cell_type": "markdown",
      "metadata": {
        "id": "V_91ocAANlHg"
      },
      "source": [
        "Decision Treeee"
      ]
    },
    {
      "cell_type": "code",
      "execution_count": null,
      "metadata": {
        "id": "SyxYpXCtf5Mi"
      },
      "outputs": [],
      "source": [
        "# classify function\n",
        "from sklearn.model_selection import cross_val_score\n",
        "def classify(model, x, y):\n",
        "    x_train, x_test, y_train, y_test = train_test_split(X, y, test_size=0.25, random_state=42)\n",
        "    model.fit(x_train, y_train)\n",
        "    print(\"Accuracy is\", model.score(x_test, y_test)*100)\n",
        "    # cross validation - it is used for better validation of model\n",
        "    # eg: cv-5, train-4, test-1\n",
        "    score = cross_val_score(model, x, y, cv=5)\n",
        "    print(\"Cross validation is\",np.mean(score)*100)\n",
        "from sklearn.linear_model import LogisticRegression\n",
        "model = LogisticRegression()\n",
        "classify(model, X, y)"
      ]
    },
    {
      "cell_type": "code",
      "execution_count": null,
      "metadata": {
        "id": "EktFLX9fNknb"
      },
      "outputs": [],
      "source": [
        "from sklearn.tree import DecisionTreeClassifier\n",
        "model = DecisionTreeClassifier()\n",
        "classify(model, X, y)"
      ]
    },
    {
      "cell_type": "code",
      "execution_count": null,
      "metadata": {
        "id": "45ijERntgjTJ"
      },
      "outputs": [],
      "source": [
        "from sklearn.ensemble import RandomForestClassifier,ExtraTreesClassifier\n",
        "model = RandomForestClassifier()\n",
        "classify(model, X, y)"
      ]
    },
    {
      "cell_type": "code",
      "execution_count": null,
      "metadata": {
        "id": "TwglePe4gjl2"
      },
      "outputs": [],
      "source": [
        "model = ExtraTreesClassifier()\n",
        "classify(model, X, y)"
      ]
    },
    {
      "cell_type": "markdown",
      "metadata": {
        "id": "8xjR5axEg8BQ"
      },
      "source": [
        "Hyperparameter tuning"
      ]
    },
    {
      "cell_type": "code",
      "execution_count": null,
      "metadata": {
        "id": "DWqfVBtJgtLo"
      },
      "outputs": [],
      "source": [
        "model = RandomForestClassifier(n_estimators=100, min_samples_split=25, max_depth=7, max_features=1)\n",
        "classify(model, X, y)"
      ]
    },
    {
      "cell_type": "code",
      "execution_count": null,
      "metadata": {
        "id": "h56_a-SEgtQh"
      },
      "outputs": [],
      "source": [
        "model = RandomForestClassifier()\n",
        "model.fit(X_train, y_train)"
      ]
    },
    {
      "cell_type": "markdown",
      "metadata": {
        "id": "PwZyjxQV5YMN"
      },
      "source": [
        "**Naive Bayes**"
      ]
    },
    {
      "cell_type": "code",
      "execution_count": null,
      "metadata": {
        "id": "6amuBCGbhBW3"
      },
      "outputs": [],
      "source": [
        "import pickle\n",
        "from sklearn.metrics import accuracy_score,f1_score, confusion_matrix, accuracy_score, classification_report\n",
        "from sklearn.naive_bayes import GaussianNB\n",
        "filename = 'gaussian_nb_model.p'\n",
        "\n",
        "model = GaussianNB()\n",
        "model.fit(X_train, y_train)\n",
        "\n",
        "y_pred = model.predict(X_test)\n",
        "print(\"Accuracy: %s%%\" % (100*accuracy_score(y_pred, y_test)))\n",
        "print(confusion_matrix(y_test, y_pred))\n",
        "print(\"Classification Report for Gaussian Naïve Bayes\")\n",
        "print(classification_report(y_test, y_pred))\n",
        "\n",
        "pickle.dump(model, open('./'+filename, 'wb'))"
      ]
    },
    {
      "cell_type": "code",
      "execution_count": null,
      "metadata": {
        "id": "zBQPVhCbmJnJ"
      },
      "outputs": [],
      "source": [
        "import pickle\n",
        "with open(\"LOAN MINI PROJECT.pickle\",\"wb\") as f:\n",
        "  pickle.dump(model,f)\n",
        "  f.close()"
      ]
    },
    {
      "cell_type": "code",
      "execution_count": null,
      "metadata": {
        "id": "Eg8WpXfQmJru"
      },
      "outputs": [],
      "source": [
        "model=pickle.load(open(\"LOAN MINI PROJECT.pickle\",\"rb\"))\n"
      ]
    },
    {
      "cell_type": "code",
      "execution_count": null,
      "metadata": {
        "id": "CT7v1W78mJzq"
      },
      "outputs": [],
      "source": [
        "X=df.iloc[:,1:12].values\n",
        "y=df.iloc[:,12].values\n",
        "X_train, X_test, y_train, y_test = train_test_split(X, y, test_size=0.3,random_state=0)"
      ]
    },
    {
      "cell_type": "code",
      "execution_count": null,
      "metadata": {
        "id": "AcQ0WjO81VgQ"
      },
      "outputs": [],
      "source": [
        "y1=df.iloc[:,12:13]\n",
        "y1"
      ]
    },
    {
      "cell_type": "code",
      "execution_count": null,
      "metadata": {
        "id": "wDxM8ZgTrU-O"
      },
      "outputs": [],
      "source": [
        "matrix = CountVectorizer(max_features=1000)\n",
        "vectors = matrix.fit_transform(texts).toarray()\n",
        "classifier = GaussianNB()\n",
        "vectors_train, vectors_test, topics_train, topics_test = train_test_split(vectors, topics)\n",
        "classifier.fit(vectors_train, topics_train)\n",
        "topics_pred = classifier.predict(vectors_test)\n",
        "\n",
        "#########THIS IS NOT WORKING###########\n",
        "from sklearn.feature_extraction.text import CountVectorizer\n",
        "test_text = ['I like that it keeps the temperature warm so I can warm milk ahead of time before baby crying. ']\n",
        "test_vec = matrix.transform(test_text).toarray()\n",
        "res = classifier.predict(test_vec)\n",
        "print(res)"
      ]
    },
    {
      "cell_type": "code",
      "execution_count": null,
      "metadata": {
        "id": "rcvAxUuMmJ6O"
      },
      "outputs": [],
      "source": [
        "print(\"predicts:\"+str(model.predict(y1)))"
      ]
    },
    {
      "cell_type": "code",
      "execution_count": null,
      "metadata": {
        "id": "HkC_ez0_mKIG"
      },
      "outputs": [],
      "source": [
        "from sklearn.svm import SVC\n",
        "classifier = SVC(kernel = \"linear\", random_state=0)\n",
        "classifier.fit(x_train,y_train)\n",
        "y_pred = classifier.predict(X_test)\n",
        "from sklearn import metrics\n",
        "cm = metrics.confusion_matrix(y_test, y_pred)\n",
        "print(cm)\n",
        "accuracy = metrics.accuracy_score(y_test, y_pred)\n",
        "print(\"Accuracy score:\",accuracy)\n",
        "precision = metrics.precision_score(y_test, y_pred)\n",
        "print(\"Precision score:\",precision)\n",
        "recall = metrics.recall_score(y_test, y_pred)\n",
        "print(\"Recall score:\",recall)\n",
        "f1=metrics.f1_score(y_test, y_pred)\n",
        "print(\"f1score:\",f1)"
      ]
    },
    {
      "cell_type": "code",
      "execution_count": null,
      "metadata": {
        "id": "jSKkbZQRmKMP"
      },
      "outputs": [],
      "source": [
        "from sklearn.tree import DecisionTreeClassifier\n",
        "classifier = DecisionTreeClassifier()\n",
        "classifier.fit(X_train, y_train)\n",
        "y_pred = classifier.predict(X_test)\n",
        "from sklearn.metrics import classification_report, confusion_matrix\n",
        "print(confusion_matrix(y_test, y_pred))\n",
        "print(classification_report(y_test, y_pred))\n"
      ]
    },
    {
      "cell_type": "code",
      "execution_count": null,
      "metadata": {
        "id": "Ob4fsdKDmKQp"
      },
      "outputs": [],
      "source": []
    }
  ],
  "metadata": {
    "colab": {
      "provenance": [],
      "authorship_tag": "ABX9TyPkyKTfwGXCUmrR1m2qygVw",
      "include_colab_link": true
    },
    "kernelspec": {
      "display_name": "Python 3",
      "name": "python3"
    },
    "language_info": {
      "name": "python"
    }
  },
  "nbformat": 4,
  "nbformat_minor": 0
}