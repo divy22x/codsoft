{
  "nbformat": 4,
  "nbformat_minor": 0,
  "metadata": {
    "colab": {
      "provenance": [],
      "authorship_tag": "ABX9TyMkErpVYhUq4EnlYwckQIM6",
      "include_colab_link": true
    },
    "kernelspec": {
      "name": "python3",
      "display_name": "Python 3"
    },
    "language_info": {
      "name": "python"
    }
  },
  "cells": [
    {
      "cell_type": "markdown",
      "metadata": {
        "id": "view-in-github",
        "colab_type": "text"
      },
      "source": [
        "<a href=\"https://colab.research.google.com/github/divy22x/codsoft/blob/main/Tirunelveli.ipynb\" target=\"_parent\"><img src=\"https://colab.research.google.com/assets/colab-badge.svg\" alt=\"Open In Colab\"/></a>"
      ]
    },
    {
      "cell_type": "code",
      "execution_count": null,
      "metadata": {
        "id": "pOvqpLevkVU_"
      },
      "outputs": [],
      "source": [
        "import pandas as pd\n",
        "import numpy as np\n",
        "import seaborn as sns\n",
        "import matplotlib.pyplot as plt"
      ]
    },
    {
      "cell_type": "code",
      "source": [
        "df=pd.read_excel('/content/politi.xlsx')\n",
        "df.head()"
      ],
      "metadata": {
        "colab": {
          "base_uri": "https://localhost:8080/",
          "height": 310
        },
        "id": "ZD59gYqDkqN9",
        "outputId": "288c7e84-4c71-4764-9d8a-97deab15fe3f"
      },
      "execution_count": null,
      "outputs": [
        {
          "output_type": "execute_result",
          "data": {
            "text/plain": [
              "                         Timestamp Location      Area    Assembly  Gender  \\\n",
              "0  2023/10/29 12:31:27 pm GMT+5:30    Rural  Palavoor  Radhapuram  Female   \n",
              "1   2023/10/29 1:21:29 pm GMT+5:30    Rural  Palavoor  Radhapuram    Male   \n",
              "2   2023/10/29 1:21:48 pm GMT+5:30    Rural  Palavoor  Radhapuram    Male   \n",
              "3   2023/10/29 1:22:07 pm GMT+5:30    Rural  Palavoor  Radhapuram    Male   \n",
              "4   2023/10/29 1:22:28 pm GMT+5:30    Rural  Palavoor  Radhapuram    Male   \n",
              "\n",
              "  Whom would you like to see as the PM in 2024?  \\\n",
              "0                                          Modi   \n",
              "1                                          Modi   \n",
              "2                                          Modi   \n",
              "3                                          Modi   \n",
              "4                                          Modi   \n",
              "\n",
              "  How is the current Tamil Nadu government ruling?  \\\n",
              "0                                         Moderate   \n",
              "1                                              Bad   \n",
              "2                                              Bad   \n",
              "3                                              Bad   \n",
              "4                                              Bad   \n",
              "\n",
              "  Would you benefit from the central government schemes?  \n",
              "0                                              Maybe      \n",
              "1                                                Yes      \n",
              "2                                                Yes      \n",
              "3                                                Yes      \n",
              "4                                                Yes      "
            ],
            "text/html": [
              "\n",
              "  <div id=\"df-aff20374-52c5-4e10-a37e-96689a103781\" class=\"colab-df-container\">\n",
              "    <div>\n",
              "<style scoped>\n",
              "    .dataframe tbody tr th:only-of-type {\n",
              "        vertical-align: middle;\n",
              "    }\n",
              "\n",
              "    .dataframe tbody tr th {\n",
              "        vertical-align: top;\n",
              "    }\n",
              "\n",
              "    .dataframe thead th {\n",
              "        text-align: right;\n",
              "    }\n",
              "</style>\n",
              "<table border=\"1\" class=\"dataframe\">\n",
              "  <thead>\n",
              "    <tr style=\"text-align: right;\">\n",
              "      <th></th>\n",
              "      <th>Timestamp</th>\n",
              "      <th>Location</th>\n",
              "      <th>Area</th>\n",
              "      <th>Assembly</th>\n",
              "      <th>Gender</th>\n",
              "      <th>Whom would you like to see as the PM in 2024?</th>\n",
              "      <th>How is the current Tamil Nadu government ruling?</th>\n",
              "      <th>Would you benefit from the central government schemes?</th>\n",
              "    </tr>\n",
              "  </thead>\n",
              "  <tbody>\n",
              "    <tr>\n",
              "      <th>0</th>\n",
              "      <td>2023/10/29 12:31:27 pm GMT+5:30</td>\n",
              "      <td>Rural</td>\n",
              "      <td>Palavoor</td>\n",
              "      <td>Radhapuram</td>\n",
              "      <td>Female</td>\n",
              "      <td>Modi</td>\n",
              "      <td>Moderate</td>\n",
              "      <td>Maybe</td>\n",
              "    </tr>\n",
              "    <tr>\n",
              "      <th>1</th>\n",
              "      <td>2023/10/29 1:21:29 pm GMT+5:30</td>\n",
              "      <td>Rural</td>\n",
              "      <td>Palavoor</td>\n",
              "      <td>Radhapuram</td>\n",
              "      <td>Male</td>\n",
              "      <td>Modi</td>\n",
              "      <td>Bad</td>\n",
              "      <td>Yes</td>\n",
              "    </tr>\n",
              "    <tr>\n",
              "      <th>2</th>\n",
              "      <td>2023/10/29 1:21:48 pm GMT+5:30</td>\n",
              "      <td>Rural</td>\n",
              "      <td>Palavoor</td>\n",
              "      <td>Radhapuram</td>\n",
              "      <td>Male</td>\n",
              "      <td>Modi</td>\n",
              "      <td>Bad</td>\n",
              "      <td>Yes</td>\n",
              "    </tr>\n",
              "    <tr>\n",
              "      <th>3</th>\n",
              "      <td>2023/10/29 1:22:07 pm GMT+5:30</td>\n",
              "      <td>Rural</td>\n",
              "      <td>Palavoor</td>\n",
              "      <td>Radhapuram</td>\n",
              "      <td>Male</td>\n",
              "      <td>Modi</td>\n",
              "      <td>Bad</td>\n",
              "      <td>Yes</td>\n",
              "    </tr>\n",
              "    <tr>\n",
              "      <th>4</th>\n",
              "      <td>2023/10/29 1:22:28 pm GMT+5:30</td>\n",
              "      <td>Rural</td>\n",
              "      <td>Palavoor</td>\n",
              "      <td>Radhapuram</td>\n",
              "      <td>Male</td>\n",
              "      <td>Modi</td>\n",
              "      <td>Bad</td>\n",
              "      <td>Yes</td>\n",
              "    </tr>\n",
              "  </tbody>\n",
              "</table>\n",
              "</div>\n",
              "    <div class=\"colab-df-buttons\">\n",
              "\n",
              "  <div class=\"colab-df-container\">\n",
              "    <button class=\"colab-df-convert\" onclick=\"convertToInteractive('df-aff20374-52c5-4e10-a37e-96689a103781')\"\n",
              "            title=\"Convert this dataframe to an interactive table.\"\n",
              "            style=\"display:none;\">\n",
              "\n",
              "  <svg xmlns=\"http://www.w3.org/2000/svg\" height=\"24px\" viewBox=\"0 -960 960 960\">\n",
              "    <path d=\"M120-120v-720h720v720H120Zm60-500h600v-160H180v160Zm220 220h160v-160H400v160Zm0 220h160v-160H400v160ZM180-400h160v-160H180v160Zm440 0h160v-160H620v160ZM180-180h160v-160H180v160Zm440 0h160v-160H620v160Z\"/>\n",
              "  </svg>\n",
              "    </button>\n",
              "\n",
              "  <style>\n",
              "    .colab-df-container {\n",
              "      display:flex;\n",
              "      gap: 12px;\n",
              "    }\n",
              "\n",
              "    .colab-df-convert {\n",
              "      background-color: #E8F0FE;\n",
              "      border: none;\n",
              "      border-radius: 50%;\n",
              "      cursor: pointer;\n",
              "      display: none;\n",
              "      fill: #1967D2;\n",
              "      height: 32px;\n",
              "      padding: 0 0 0 0;\n",
              "      width: 32px;\n",
              "    }\n",
              "\n",
              "    .colab-df-convert:hover {\n",
              "      background-color: #E2EBFA;\n",
              "      box-shadow: 0px 1px 2px rgba(60, 64, 67, 0.3), 0px 1px 3px 1px rgba(60, 64, 67, 0.15);\n",
              "      fill: #174EA6;\n",
              "    }\n",
              "\n",
              "    .colab-df-buttons div {\n",
              "      margin-bottom: 4px;\n",
              "    }\n",
              "\n",
              "    [theme=dark] .colab-df-convert {\n",
              "      background-color: #3B4455;\n",
              "      fill: #D2E3FC;\n",
              "    }\n",
              "\n",
              "    [theme=dark] .colab-df-convert:hover {\n",
              "      background-color: #434B5C;\n",
              "      box-shadow: 0px 1px 3px 1px rgba(0, 0, 0, 0.15);\n",
              "      filter: drop-shadow(0px 1px 2px rgba(0, 0, 0, 0.3));\n",
              "      fill: #FFFFFF;\n",
              "    }\n",
              "  </style>\n",
              "\n",
              "    <script>\n",
              "      const buttonEl =\n",
              "        document.querySelector('#df-aff20374-52c5-4e10-a37e-96689a103781 button.colab-df-convert');\n",
              "      buttonEl.style.display =\n",
              "        google.colab.kernel.accessAllowed ? 'block' : 'none';\n",
              "\n",
              "      async function convertToInteractive(key) {\n",
              "        const element = document.querySelector('#df-aff20374-52c5-4e10-a37e-96689a103781');\n",
              "        const dataTable =\n",
              "          await google.colab.kernel.invokeFunction('convertToInteractive',\n",
              "                                                    [key], {});\n",
              "        if (!dataTable) return;\n",
              "\n",
              "        const docLinkHtml = 'Like what you see? Visit the ' +\n",
              "          '<a target=\"_blank\" href=https://colab.research.google.com/notebooks/data_table.ipynb>data table notebook</a>'\n",
              "          + ' to learn more about interactive tables.';\n",
              "        element.innerHTML = '';\n",
              "        dataTable['output_type'] = 'display_data';\n",
              "        await google.colab.output.renderOutput(dataTable, element);\n",
              "        const docLink = document.createElement('div');\n",
              "        docLink.innerHTML = docLinkHtml;\n",
              "        element.appendChild(docLink);\n",
              "      }\n",
              "    </script>\n",
              "  </div>\n",
              "\n",
              "\n",
              "<div id=\"df-ae615da0-b068-4dd9-88e2-5c3761a89db7\">\n",
              "  <button class=\"colab-df-quickchart\" onclick=\"quickchart('df-ae615da0-b068-4dd9-88e2-5c3761a89db7')\"\n",
              "            title=\"Suggest charts\"\n",
              "            style=\"display:none;\">\n",
              "\n",
              "<svg xmlns=\"http://www.w3.org/2000/svg\" height=\"24px\"viewBox=\"0 0 24 24\"\n",
              "     width=\"24px\">\n",
              "    <g>\n",
              "        <path d=\"M19 3H5c-1.1 0-2 .9-2 2v14c0 1.1.9 2 2 2h14c1.1 0 2-.9 2-2V5c0-1.1-.9-2-2-2zM9 17H7v-7h2v7zm4 0h-2V7h2v10zm4 0h-2v-4h2v4z\"/>\n",
              "    </g>\n",
              "</svg>\n",
              "  </button>\n",
              "\n",
              "<style>\n",
              "  .colab-df-quickchart {\n",
              "      --bg-color: #E8F0FE;\n",
              "      --fill-color: #1967D2;\n",
              "      --hover-bg-color: #E2EBFA;\n",
              "      --hover-fill-color: #174EA6;\n",
              "      --disabled-fill-color: #AAA;\n",
              "      --disabled-bg-color: #DDD;\n",
              "  }\n",
              "\n",
              "  [theme=dark] .colab-df-quickchart {\n",
              "      --bg-color: #3B4455;\n",
              "      --fill-color: #D2E3FC;\n",
              "      --hover-bg-color: #434B5C;\n",
              "      --hover-fill-color: #FFFFFF;\n",
              "      --disabled-bg-color: #3B4455;\n",
              "      --disabled-fill-color: #666;\n",
              "  }\n",
              "\n",
              "  .colab-df-quickchart {\n",
              "    background-color: var(--bg-color);\n",
              "    border: none;\n",
              "    border-radius: 50%;\n",
              "    cursor: pointer;\n",
              "    display: none;\n",
              "    fill: var(--fill-color);\n",
              "    height: 32px;\n",
              "    padding: 0;\n",
              "    width: 32px;\n",
              "  }\n",
              "\n",
              "  .colab-df-quickchart:hover {\n",
              "    background-color: var(--hover-bg-color);\n",
              "    box-shadow: 0 1px 2px rgba(60, 64, 67, 0.3), 0 1px 3px 1px rgba(60, 64, 67, 0.15);\n",
              "    fill: var(--button-hover-fill-color);\n",
              "  }\n",
              "\n",
              "  .colab-df-quickchart-complete:disabled,\n",
              "  .colab-df-quickchart-complete:disabled:hover {\n",
              "    background-color: var(--disabled-bg-color);\n",
              "    fill: var(--disabled-fill-color);\n",
              "    box-shadow: none;\n",
              "  }\n",
              "\n",
              "  .colab-df-spinner {\n",
              "    border: 2px solid var(--fill-color);\n",
              "    border-color: transparent;\n",
              "    border-bottom-color: var(--fill-color);\n",
              "    animation:\n",
              "      spin 1s steps(1) infinite;\n",
              "  }\n",
              "\n",
              "  @keyframes spin {\n",
              "    0% {\n",
              "      border-color: transparent;\n",
              "      border-bottom-color: var(--fill-color);\n",
              "      border-left-color: var(--fill-color);\n",
              "    }\n",
              "    20% {\n",
              "      border-color: transparent;\n",
              "      border-left-color: var(--fill-color);\n",
              "      border-top-color: var(--fill-color);\n",
              "    }\n",
              "    30% {\n",
              "      border-color: transparent;\n",
              "      border-left-color: var(--fill-color);\n",
              "      border-top-color: var(--fill-color);\n",
              "      border-right-color: var(--fill-color);\n",
              "    }\n",
              "    40% {\n",
              "      border-color: transparent;\n",
              "      border-right-color: var(--fill-color);\n",
              "      border-top-color: var(--fill-color);\n",
              "    }\n",
              "    60% {\n",
              "      border-color: transparent;\n",
              "      border-right-color: var(--fill-color);\n",
              "    }\n",
              "    80% {\n",
              "      border-color: transparent;\n",
              "      border-right-color: var(--fill-color);\n",
              "      border-bottom-color: var(--fill-color);\n",
              "    }\n",
              "    90% {\n",
              "      border-color: transparent;\n",
              "      border-bottom-color: var(--fill-color);\n",
              "    }\n",
              "  }\n",
              "</style>\n",
              "\n",
              "  <script>\n",
              "    async function quickchart(key) {\n",
              "      const quickchartButtonEl =\n",
              "        document.querySelector('#' + key + ' button');\n",
              "      quickchartButtonEl.disabled = true;  // To prevent multiple clicks.\n",
              "      quickchartButtonEl.classList.add('colab-df-spinner');\n",
              "      try {\n",
              "        const charts = await google.colab.kernel.invokeFunction(\n",
              "            'suggestCharts', [key], {});\n",
              "      } catch (error) {\n",
              "        console.error('Error during call to suggestCharts:', error);\n",
              "      }\n",
              "      quickchartButtonEl.classList.remove('colab-df-spinner');\n",
              "      quickchartButtonEl.classList.add('colab-df-quickchart-complete');\n",
              "    }\n",
              "    (() => {\n",
              "      let quickchartButtonEl =\n",
              "        document.querySelector('#df-ae615da0-b068-4dd9-88e2-5c3761a89db7 button');\n",
              "      quickchartButtonEl.style.display =\n",
              "        google.colab.kernel.accessAllowed ? 'block' : 'none';\n",
              "    })();\n",
              "  </script>\n",
              "</div>\n",
              "    </div>\n",
              "  </div>\n"
            ]
          },
          "metadata": {},
          "execution_count": 5
        }
      ]
    },
    {
      "cell_type": "code",
      "source": [
        "df.shape"
      ],
      "metadata": {
        "colab": {
          "base_uri": "https://localhost:8080/"
        },
        "id": "LrglFKaQkqSg",
        "outputId": "a553ab70-b629-4a2d-b7d5-602fa257c5c5"
      },
      "execution_count": null,
      "outputs": [
        {
          "output_type": "execute_result",
          "data": {
            "text/plain": [
              "(1741, 8)"
            ]
          },
          "metadata": {},
          "execution_count": 6
        }
      ]
    },
    {
      "cell_type": "code",
      "source": [
        "palayankottai_count = df[df['Assembly'] == 'Tirunelveli'].shape[0]\n",
        "print(\"Number of data in 'Tirunelveli':\", palayankottai_count)"
      ],
      "metadata": {
        "colab": {
          "base_uri": "https://localhost:8080/"
        },
        "id": "_Z94cfGukqWj",
        "outputId": "2a6d78b0-cd8c-4085-b0fc-3090fc63e765"
      },
      "execution_count": null,
      "outputs": [
        {
          "output_type": "stream",
          "name": "stdout",
          "text": [
            "Number of data in 'Tirunelveli': 501\n"
          ]
        }
      ]
    },
    {
      "cell_type": "code",
      "source": [
        "df.drop(['Timestamp'], axis=1,inplace=True)"
      ],
      "metadata": {
        "id": "_k5rAYcgkqaV"
      },
      "execution_count": null,
      "outputs": []
    },
    {
      "cell_type": "code",
      "source": [
        "df[df['Assembly'] == 'Tirunelveli']['Gender'].value_counts()"
      ],
      "metadata": {
        "colab": {
          "base_uri": "https://localhost:8080/"
        },
        "id": "5eJTElgLkqfl",
        "outputId": "a996c68f-d1fe-493b-bf54-f544accc81a7"
      },
      "execution_count": null,
      "outputs": [
        {
          "output_type": "execute_result",
          "data": {
            "text/plain": [
              "Male      309\n",
              "Female    192\n",
              "Name: Gender, dtype: int64"
            ]
          },
          "metadata": {},
          "execution_count": 9
        }
      ]
    },
    {
      "cell_type": "code",
      "source": [
        "palayankottai_df = df[df['Assembly'] == 'Tirunelveli']\n",
        "\n",
        "gender_counts = palayankottai_df['Gender'].value_counts()\n",
        "\n",
        "gender_percentages = gender_counts / gender_counts.sum() * 100\n",
        "\n",
        "plt.figure(figsize=(8, 5))\n",
        "sns.barplot(x=gender_percentages.index, y=gender_percentages.values)\n",
        "\n",
        "plt.xlabel('Gender')\n",
        "plt.ylabel('Percentage')\n",
        "plt.title('Gender Distribution in Tirunelveli Assembly')\n",
        "\n",
        "for i, percentage in enumerate(gender_percentages):\n",
        "    plt.text(i, percentage + 1, f'{percentage:.2f}%', ha='center', va='bottom')\n",
        "\n",
        "plt.show()\n"
      ],
      "metadata": {
        "colab": {
          "base_uri": "https://localhost:8080/",
          "height": 487
        },
        "id": "sQI_BI3pkqlL",
        "outputId": "5543d3a4-b371-4bea-93c9-57339d33d473"
      },
      "execution_count": null,
      "outputs": [
        {
          "output_type": "display_data",
          "data": {
            "text/plain": [
              "<Figure size 800x500 with 1 Axes>"
            ],
            "image/png": "[encoded data removed]"
          },
          "metadata": {}
        }
      ]
    },
    {
      "cell_type": "code",
      "source": [
        "df[df['Assembly'] == 'Tirunelveli']['Location'].value_counts()"
      ],
      "metadata": {
        "colab": {
          "base_uri": "https://localhost:8080/"
        },
        "id": "hXh391jBkqpE",
        "outputId": "c4350928-61a5-4915-c380-9a134f05a9ec"
      },
      "execution_count": null,
      "outputs": [
        {
          "output_type": "execute_result",
          "data": {
            "text/plain": [
              "Urban    501\n",
              "Name: Location, dtype: int64"
            ]
          },
          "metadata": {},
          "execution_count": 11
        }
      ]
    },
    {
      "cell_type": "code",
      "source": [
        "palayankottai_df = df[df['Assembly'] == 'Tirunelveli']\n",
        "\n",
        "gender_counts = palayankottai_df['Location'].value_counts()\n",
        "\n",
        "gender_percentages = gender_counts / gender_counts.sum() * 100\n",
        "\n",
        "plt.figure(figsize=(8, 5))\n",
        "sns.barplot(x=gender_percentages.index, y=gender_percentages.values)\n",
        "\n",
        "plt.xlabel('urban')\n",
        "plt.ylabel('Percentage')\n",
        "plt.title('Location Distribution in Tirunelveli Assembly')\n",
        "\n",
        "for i, percentage in enumerate(gender_percentages):\n",
        "    plt.text(i, percentage + 1, f'{percentage:.2f}%', ha='center', va='bottom')\n",
        "\n",
        "plt.show()\n"
      ],
      "metadata": {
        "colab": {
          "base_uri": "https://localhost:8080/",
          "height": 487
        },
        "id": "B28PP2VGkqsj",
        "outputId": "6bfbdb70-9327-48cd-95dd-31b541073f48"
      },
      "execution_count": null,
      "outputs": [
        {
          "output_type": "display_data",
          "data": {
            "text/plain": [
              "<Figure size 800x500 with 1 Axes>"
            ],
            "image/png": "[encoded data removed]"
          },
          "metadata": {}
        }
      ]
    },
    {
      "cell_type": "code",
      "source": [
        "df[df['Assembly'] == 'Tirunelveli']['Whom would you like to see as the PM in 2024?'].value_counts()"
      ],
      "metadata": {
        "colab": {
          "base_uri": "https://localhost:8080/"
        },
        "id": "NTGZA63Bkqv5",
        "outputId": "f5920a33-b4b3-49c6-94b7-11d2e6e03c7c"
      },
      "execution_count": null,
      "outputs": [
        {
          "output_type": "execute_result",
          "data": {
            "text/plain": [
              "I.N.D.I.A+ALL    185\n",
              "Modi             175\n",
              "ADMK             128\n",
              "AMMK+OPS          11\n",
              "NTK                2\n",
              "Name: Whom would you like to see as the PM in 2024?, dtype: int64"
            ]
          },
          "metadata": {},
          "execution_count": 13
        }
      ]
    },
    {
      "cell_type": "code",
      "source": [
        "palayankottai_df = df[df['Assembly'] == 'Tirunelveli']\n",
        "\n",
        "custom_palette = {'I.N.D.I.A+ALL': 'brown','ADMK': 'green','Modi': 'orange','AMMK+OPS': 'black','NTK': 'red'}\n",
        "\n",
        "pm_counts = palayankottai_df['Whom would you like to see as the PM in 2024?'].value_counts()\n",
        "pm_percentages = pm_counts / pm_counts.sum() * 100\n",
        "\n",
        "plt.figure(figsize=(8, 5))\n",
        "sns.barplot(x=pm_percentages.index, y=pm_percentages.values, palette=[custom_palette[pm] for pm in pm_percentages.index])\n",
        "\n",
        "plt.xlabel('Whom would you like to see as the PM in 2024?')\n",
        "plt.ylabel('Percentage')\n",
        "plt.title('Distribution in Tirunelveli Assembly')\n",
        "\n",
        "for i, percentage in enumerate(pm_percentages):\n",
        "    plt.text(i, percentage + 1, f'{percentage:.2f}%', ha='center', va='bottom')\n",
        "\n",
        "plt.show()\n"
      ],
      "metadata": {
        "colab": {
          "base_uri": "https://localhost:8080/",
          "height": 487
        },
        "id": "-6dyjfKEkq3X",
        "outputId": "753600d2-d589-4df8-ad6e-1a1c8aa6ba43"
      },
      "execution_count": null,
      "outputs": [
        {
          "output_type": "display_data",
          "data": {
            "text/plain": [
              "<Figure size 800x500 with 1 Axes>"
            ],
            "image/png": "[encoded data removed]"
          },
          "metadata": {}
        }
      ]
    },
    {
      "cell_type": "code",
      "source": [
        "df[df['Assembly'] == 'Tirunelveli']['Would you benefit from the central government schemes?'].value_counts()"
      ],
      "metadata": {
        "colab": {
          "base_uri": "https://localhost:8080/"
        },
        "id": "TCb6NuvOlXtw",
        "outputId": "717599be-8798-4549-9520-72c94f9db004"
      },
      "execution_count": null,
      "outputs": [
        {
          "output_type": "execute_result",
          "data": {
            "text/plain": [
              "No       244\n",
              "Yes      189\n",
              "Maybe     68\n",
              "Name: Would you benefit from the central government schemes?, dtype: int64"
            ]
          },
          "metadata": {},
          "execution_count": 15
        }
      ]
    },
    {
      "cell_type": "code",
      "source": [
        "palayankottai_df = df[df['Assembly'] == 'Tirunelveli']\n",
        "\n",
        "gender_counts = palayankottai_df['Would you benefit from the central government schemes?'].value_counts()\n",
        "\n",
        "gender_percentages = gender_counts / gender_counts.sum() * 100\n",
        "\n",
        "plt.figure(figsize=(8, 5))\n",
        "sns.barplot(x=gender_percentages.index, y=gender_percentages.values)\n",
        "\n",
        "plt.xlabel('Would you benefit from the central government schemes?')\n",
        "plt.ylabel('Percentage')\n",
        "plt.title('Distribution in Tirunelveli Assembly')\n",
        "\n",
        "for i, percentage in enumerate(gender_percentages):\n",
        "    plt.text(i, percentage + 1, f'{percentage:.2f}%', ha='center', va='bottom')\n",
        "\n",
        "plt.show()\n"
      ],
      "metadata": {
        "colab": {
          "base_uri": "https://localhost:8080/",
          "height": 487
        },
        "id": "ZwmdkoxOlfs5",
        "outputId": "d622722f-92c3-4349-82c8-e8b0aa2761a3"
      },
      "execution_count": null,
      "outputs": [
        {
          "output_type": "display_data",
          "data": {
            "text/plain": [
              "<Figure size 800x500 with 1 Axes>"
            ],
            "image/png": "[encoded data removed]"
          },
          "metadata": {}
        }
      ]
    },
    {
      "cell_type": "code",
      "source": [
        "df[df['Assembly'] == 'Tirunelveli']['How is the current Tamil Nadu government ruling?'].value_counts()"
      ],
      "metadata": {
        "colab": {
          "base_uri": "https://localhost:8080/"
        },
        "id": "mStNT5J1lfpM",
        "outputId": "0ad50aeb-65ef-4eba-9705-1d64c8c5ed9a"
      },
      "execution_count": null,
      "outputs": [
        {
          "output_type": "execute_result",
          "data": {
            "text/plain": [
              "Bad         313\n",
              "Good        156\n",
              "Moderate     32\n",
              "Name: How is the current Tamil Nadu government ruling?, dtype: int64"
            ]
          },
          "metadata": {},
          "execution_count": 17
        }
      ]
    },
    {
      "cell_type": "code",
      "source": [
        "palayankottai_df = df[df['Assembly'] == 'Tirunelveli']\n",
        "\n",
        "gender_counts = palayankottai_df['How is the current Tamil Nadu government ruling?'].value_counts()\n",
        "\n",
        "gender_percentages = gender_counts / gender_counts.sum() * 100\n",
        "\n",
        "plt.figure(figsize=(8, 5))\n",
        "sns.barplot(x=gender_percentages.index, y=gender_percentages.values)\n",
        "\n",
        "plt.xlabel('How is the current Tamil Nadu government ruling?')\n",
        "plt.ylabel('Percentage')\n",
        "plt.title('Distribution in Tirunelveli Assembly')\n",
        "\n",
        "for i, percentage in enumerate(gender_percentages):\n",
        "    plt.text(i, percentage + 1, f'{percentage:.2f}%', ha='center', va='bottom')\n",
        "\n",
        "plt.show()\n"
      ],
      "metadata": {
        "colab": {
          "base_uri": "https://localhost:8080/",
          "height": 487
        },
        "id": "ZgBKYZnylflH",
        "outputId": "e0f68964-8949-4f0a-a593-78736fabfe78"
      },
      "execution_count": null,
      "outputs": [
        {
          "output_type": "display_data",
          "data": {
            "text/plain": [
              "<Figure size 800x500 with 1 Axes>"
            ],
            "image/png": "[encoded data removed]"
          },
          "metadata": {}
        }
      ]
    },
    {
      "cell_type": "code",
      "source": [
        "def count_candidate_voters(df, assembly, location, candidate):\n",
        "    voters = df[(df['Assembly'] == assembly) & (df['Location'] == location) & (df['Whom would you like to see as the PM in 2024?'] == candidate)]\n",
        "    return len(voters)\n",
        "\n",
        "locations = ['Rural', 'Urban']\n",
        "candidates = ['I.N.D.I.A+ALL', 'Modi', 'ADMK', 'AMMK+OPS', 'NTK']\n",
        "assembly = 'Tirunelveli'\n",
        "\n",
        "for location in locations:\n",
        "    for candidate in candidates:\n",
        "        count = count_candidate_voters(df, assembly, location, candidate)\n",
        "        print(f\"The number of people likely to vote for {candidate} in {location} areas of {assembly} assembly is: {count}\")\n",
        "        print()\n"
      ],
      "metadata": {
        "colab": {
          "base_uri": "https://localhost:8080/"
        },
        "id": "gtPu9eublfRW",
        "outputId": "0a8d154e-302e-44b7-ea59-d79b9d4bfefc"
      },
      "execution_count": null,
      "outputs": [
        {
          "output_type": "stream",
          "name": "stdout",
          "text": [
            "The number of people likely to vote for I.N.D.I.A+ALL in Rural areas of Tirunelveli assembly is: 0\n",
            "\n",
            "The number of people likely to vote for Modi in Rural areas of Tirunelveli assembly is: 0\n",
            "\n",
            "The number of people likely to vote for ADMK in Rural areas of Tirunelveli assembly is: 0\n",
            "\n",
            "The number of people likely to vote for AMMK+OPS in Rural areas of Tirunelveli assembly is: 0\n",
            "\n",
            "The number of people likely to vote for NTK in Rural areas of Tirunelveli assembly is: 0\n",
            "\n",
            "The number of people likely to vote for I.N.D.I.A+ALL in Urban areas of Tirunelveli assembly is: 185\n",
            "\n",
            "The number of people likely to vote for Modi in Urban areas of Tirunelveli assembly is: 175\n",
            "\n",
            "The number of people likely to vote for ADMK in Urban areas of Tirunelveli assembly is: 128\n",
            "\n",
            "The number of people likely to vote for AMMK+OPS in Urban areas of Tirunelveli assembly is: 11\n",
            "\n",
            "The number of people likely to vote for NTK in Urban areas of Tirunelveli assembly is: 2\n",
            "\n"
          ]
        }
      ]
    },
    {
      "cell_type": "code",
      "source": [
        "preferences = ['I.N.D.I.A+ALL', 'Modi', 'ADMK', 'AMMK_OPS', 'NTK']\n",
        "assembly = 'Tirunelveli'\n",
        "\n",
        "max_votes = 0\n",
        "winning_preference = ''\n",
        "\n",
        "for preference in preferences:\n",
        "    preference_voters_grouped = df[(df['Whom would you like to see as the PM in 2024?'] == preference) & (df['Assembly'] == assembly)].groupby(['Location', 'Gender']).size().reset_index(name='Count')\n",
        "\n",
        "    total_votes = preference_voters_grouped['Count'].sum()\n",
        "\n",
        "    if total_votes > max_votes:\n",
        "        max_votes = total_votes\n",
        "        winning_preference = preference\n",
        "\n",
        "print(f\"The preference that received the highest number of votes in {assembly} assembly is: {winning_preference}\")\n",
        "print(f\"The total number of votes for the winning preference is: {max_votes}\")\n"
      ],
      "metadata": {
        "colab": {
          "base_uri": "https://localhost:8080/"
        },
        "id": "goK6bZjHlfNQ",
        "outputId": "5cfa339c-d9c6-405f-c37f-093b3c048cbd"
      },
      "execution_count": null,
      "outputs": [
        {
          "output_type": "stream",
          "name": "stdout",
          "text": [
            "The preference that received the highest number of votes in Tirunelveli assembly is: I.N.D.I.A+ALL\n",
            "The total number of votes for the winning preference is: 185\n"
          ]
        }
      ]
    },
    {
      "cell_type": "code",
      "source": [
        "\n",
        "area_modi_voters = df[(df['Assembly'] == 'Palayankottai') & (df['Whom would you like to see as the PM in 2024?'] == 'Modi')]\n",
        "\n",
        "male_modi_voters = len(area_modi_voters[area_modi_voters['Gender'] == 'Male'])\n",
        "female_modi_voters = len(area_modi_voters[area_modi_voters['Gender'] == 'Female'])\n",
        "\n",
        "target_area = 'Tirunelveli'\n",
        "\n",
        "print(f\"The number of male voters who like to vote for Modi in {target_area} is: {male_modi_voters}\")\n",
        "print(f\"The number of female voters who like to vote for Modi in {target_area} is: {female_modi_voters}\")\n"
      ],
      "metadata": {
        "colab": {
          "base_uri": "https://localhost:8080/"
        },
        "id": "NsTgRPB6lfI-",
        "outputId": "dc588896-5a47-4976-d0a3-81c925635077"
      },
      "execution_count": null,
      "outputs": [
        {
          "output_type": "stream",
          "name": "stdout",
          "text": [
            "The number of male voters who like to vote for Modi in Tirunelveli is: 120\n",
            "The number of female voters who like to vote for Modi in Tirunelveli is: 31\n"
          ]
        }
      ]
    },
    {
      "cell_type": "code",
      "source": [],
      "metadata": {
        "id": "jAT-_0LVlfFD"
      },
      "execution_count": null,
      "outputs": []
    }
  ]
}